{
 "cells": [
  {
   "cell_type": "markdown",
   "metadata": {
    "colab_type": "text",
    "id": "Wm7UBfh_2Njf"
   },
   "source": [
    "***\n",
    "## **<center>Predicting Book Award Candidates from Goodreads Data</center>**\n",
    "\n",
    "### <center> **IST718 Final Project - Import and Merge Datasets</center>**\n",
    "\n",
    "**<center>Jon Kaplan, Luke Miller, John Fields | June 13, 2020</center>**\n",
    "***\n",
    "\n",
    "<br>\n",
    "\n",
    "The merging of the Books Fantasy-Paranormal, Reviews Fantasy-Paranormal and Awards would not run in Google Colab due to RAM limitations. This code was developed to run on local computers to generate a CSV file for import to IST718_Project_BookReviews notebook. Once this data is in Colab, the GPU's can be utilized for the BERT transformer processing.\n",
    "\n",
    "Based on work by:\n",
    "* University of California San Diego BookGraph - https://sites.google.com/eng.ucsd.edu/ucsdbookgraph\n"
   ]
  },
  {
   "cell_type": "markdown",
   "metadata": {
    "colab_type": "text",
    "id": "xf35eMcY6D54"
   },
   "source": [
    "# 1. Data Import and Preprocessing\n",
    "\n",
    "***"
   ]
  },
  {
   "cell_type": "code",
   "execution_count": 1,
   "metadata": {
    "colab": {},
    "colab_type": "code",
    "id": "PTov6Y8__9_o",
    "scrolled": true
   },
   "outputs": [],
   "source": [
    "import numpy as np\n",
    "import pandas as pd\n",
    "import os\n",
    "import json\n",
    "import csv\n",
    "from scipy.stats import uniform"
   ]
  },
  {
   "cell_type": "markdown",
   "metadata": {
    "colab_type": "text",
    "id": "MLXpgpNoIJMG"
   },
   "source": [
    "# 1.1 Load Data from JSON files - BooksFP, ReviewsFP\n",
    "\n",
    "#Source = University of California San Diego Book Graph"
   ]
  },
  {
   "cell_type": "code",
   "execution_count": 2,
   "metadata": {
    "colab": {},
    "colab_type": "code",
    "id": "jvuHAkR7-sSc"
   },
   "outputs": [],
   "source": [
    "DIR = '/Users/johnfields/Library/Mobile Documents/com~apple~CloudDocs/Syracuse/IST718/Assignments/Project/UCSD Book Graph/'"
   ]
  },
  {
   "cell_type": "code",
   "execution_count": 3,
   "metadata": {
    "colab": {},
    "colab_type": "code",
    "id": "UX8bD_m3-h_Q"
   },
   "outputs": [],
   "source": [
    "#Load files function\n",
    "#Limit to XXXX observations for testing\n",
    "def load_data(file_name):\n",
    "    count = 0\n",
    "    data = []\n",
    "    with open(file_name) as fin:\n",
    "        for l in fin:\n",
    "            d = json.loads(l)\n",
    "            count += 1\n",
    "            data.append(d)            \n",
    "    return data\n",
    "reviewsFP = load_data(os.path.join(DIR, 'goodreads_reviews_fantasy_paranormal.json'))   \n",
    "booksFP = load_data(os.path.join(DIR, 'goodreads_books_fantasy_paranormal.json'))"
   ]
  },
  {
   "cell_type": "markdown",
   "metadata": {
    "colab_type": "text",
    "id": "PV9uqdgV8d6G"
   },
   "source": [
    "## 1.1.0 Import and Load Award Data"
   ]
  },
  {
   "cell_type": "code",
   "execution_count": 0,
   "metadata": {
    "colab": {},
    "colab_type": "code",
    "id": "g9yk6eTxQczG"
   },
   "outputs": [],
   "source": [
    "## COMMENTED OUT SINCE THIS TAKES 25 MINUTES TO RUN\n",
    "# #Import Award Data\n",
    "# #04.25.20 Code From Luke Miller\n",
    "# pd.options.display.max_columns = None\n",
    "# logging.basicConfig(format='%(asctime)s - %(message)s', level=logging.INFO)\n",
    "\n",
    "# def getAwardBooks(url, numPages, sleepTime):\n",
    "#     logging.info('scraping {} pages from 1 to {}'.format(url,numPages))\n",
    "#     all_awards = []\n",
    "#     logging.info('loop through the other pages')\n",
    "#     for i in range(1, numPages+1):\n",
    "#         newPage = url+ '?page=' + str(i)\n",
    "#         logging.info('logging page ' + str(i))\n",
    "#         logging.info('url is {}'.format(newPage))\n",
    "#         with urllib.request.urlopen(newPage) as response:\n",
    "#             soup = BeautifulSoup(response, 'html.parser')\n",
    "#             table = soup.find('table')\n",
    "\n",
    "#         award_books = []\n",
    "#         for i in table.findAll('tr',\n",
    "#                                attrs={'itemtype': 'http://schema.org/Book'}):\n",
    "#             rec = {}\n",
    "#             rec['bookID'] = i.find('div', attrs={'u-anchorTarget'}).get('id')\n",
    "#             rec['bookLink'] = i.find('a', attrs={'class': 'bookTitle'}).get(\n",
    "#                 'href')\n",
    "#             rec['bookTitle'] = i.find('a', attrs={'class': 'bookTitle'}).find(\n",
    "#                 'span').text\n",
    "#             rec['authorName'] = i.find('a', attrs={'class': 'authorName'}).text\n",
    "#             rec['award'] = i.find('i').text\n",
    "#             award_books.append(pd.DataFrame(rec, index=[0]))\n",
    "\n",
    "#         award_books = pd.concat(award_books)\n",
    "#         all_awards.append(award_books)\n",
    "#         logging.info('sleep for a bit')\n",
    "#         time.sleep(sleepTime)\n",
    "\n",
    "#     logging.info('finished')\n",
    "#     all_awards = pd.concat(all_awards)\n",
    "#     return all_awards\n",
    "\n",
    "# nebula = getAwardBooks('https://www.goodreads.com/award/show/23-nebula-award',\n",
    "#                        28, 2)\n",
    "# nebula.to_csv('/content/drive/My Drive/Colab Notebooks/nebula-awards.csv')\n",
    "# time.sleep(5)\n",
    "# goodreads = getAwardBooks(\n",
    "#     'https://www.goodreads.com/award/show/21332-goodreads-choice-award', 133, 5)\n",
    "# goodreads.to_csv('/content/drive/My Drive/Colab Notebooks/goodreads-choice-awards.csv')\n",
    "\n",
    "# time.sleep(5)\n",
    "# locus = getAwardBooks('https://www.goodreads.com/award/show/46-locus-award', 62,\n",
    "#                       2)\n",
    "# locus.to_csv('/content/drive/My Drive/Colab Notebooks/locus-awards.csv')\n",
    "\n",
    "# time.sleep(5)\n",
    "# hugo = getAwardBooks('https://www.goodreads.com/award/show/9-hugo-award', 33,\n",
    "#                       2)\n",
    "# hugo.to_csv('/content/drive/My Drive/Colab Notebooks/hugo-awards.csv')\n",
    "\n",
    "# combo = pd.concat([nebula,locus,hugo])\n",
    "# #combo = combo[~combo['award'].str.contains('Nominee')]\n",
    "# combo['Nominee']= np.where(combo['award'].str.contains('Nominee'),1,0)\n",
    "# combo.to_csv('/content/drive/My Drive/Colab Notebooks/combo-awards.csv')\n",
    "# #combo[combo['award'].str.contains('Nominee')]\n",
    "\n",
    "## Need to test adding this line to drop the first column with zeros\n",
    "##awards.drop(awards.columns[0],axis=1,inplace=True)"
   ]
  },
  {
   "cell_type": "code",
   "execution_count": 4,
   "metadata": {
    "colab": {
     "base_uri": "https://localhost:8080/",
     "height": 158
    },
    "colab_type": "code",
    "id": "GC1zPyiv_EAx",
    "outputId": "e15b6c9e-1678-49fd-cc5d-1376021dbe2d"
   },
   "outputs": [],
   "source": [
    "awards = pd.read_csv('/Users/johnfields/Library/Mobile Documents/com~apple~CloudDocs/Syracuse/IST718/Assignments/Project/UCSD Book Graph/combo-awards.csv')\n",
    "awards.bookID = awards.bookID.astype(str)\n",
    "awards.Nominee = awards.Nominee.astype(int)"
   ]
  },
  {
   "cell_type": "code",
   "execution_count": 0,
   "metadata": {
    "colab": {
     "base_uri": "https://localhost:8080/",
     "height": 1000
    },
    "colab_type": "code",
    "id": "sL4ujkQDIZJr",
    "outputId": "a9969dd4-0706-4507-c3a8-501c334aeb07"
   },
   "outputs": [
    {
     "data": {
      "text/html": [
       "<div>\n",
       "<style scoped>\n",
       "    .dataframe tbody tr th:only-of-type {\n",
       "        vertical-align: middle;\n",
       "    }\n",
       "\n",
       "    .dataframe tbody tr th {\n",
       "        vertical-align: top;\n",
       "    }\n",
       "\n",
       "    .dataframe thead th {\n",
       "        text-align: right;\n",
       "    }\n",
       "</style>\n",
       "<table border=\"1\" class=\"dataframe\">\n",
       "  <thead>\n",
       "    <tr style=\"text-align: right;\">\n",
       "      <th></th>\n",
       "      <th>bookID</th>\n",
       "      <th>bookLink</th>\n",
       "      <th>bookTitle</th>\n",
       "      <th>authorName</th>\n",
       "      <th>award</th>\n",
       "      <th>Nominee</th>\n",
       "      <th>Nominee_Winner</th>\n",
       "    </tr>\n",
       "  </thead>\n",
       "  <tbody>\n",
       "    <tr>\n",
       "      <th>0</th>\n",
       "      <td>43466735</td>\n",
       "      <td>/book/show/43466735-fireside-magazine-issue-52...</td>\n",
       "      <td>Fireside Magazine Issue 52, February 2018</td>\n",
       "      <td>Julia Rios</td>\n",
       "      <td>Nebula Award for Short Story for \"The Secret L...</td>\n",
       "      <td>0</td>\n",
       "      <td>1</td>\n",
       "    </tr>\n",
       "    <tr>\n",
       "      <th>1</th>\n",
       "      <td>34659272</td>\n",
       "      <td>/book/show/34659272-the-only-harmless-great-thing</td>\n",
       "      <td>The Only Harmless Great Thing</td>\n",
       "      <td>Brooke Bolander</td>\n",
       "      <td>Nebula Award for Best Novelette (2018)</td>\n",
       "      <td>0</td>\n",
       "      <td>1</td>\n",
       "    </tr>\n",
       "    <tr>\n",
       "      <th>2</th>\n",
       "      <td>36686547</td>\n",
       "      <td>/book/show/36686547-the-tea-master-and-the-det...</td>\n",
       "      <td>The Tea Master and the Detective</td>\n",
       "      <td>Aliette de Bodard</td>\n",
       "      <td>Nebula Award for Novella (2018)</td>\n",
       "      <td>0</td>\n",
       "      <td>1</td>\n",
       "    </tr>\n",
       "    <tr>\n",
       "      <th>3</th>\n",
       "      <td>33080122</td>\n",
       "      <td>/book/show/33080122-the-calculating-stars</td>\n",
       "      <td>The Calculating Stars (Lady Astronaut, #1)</td>\n",
       "      <td>Mary Robinette Kowal</td>\n",
       "      <td>Nebula Award for Best Novel (2018)</td>\n",
       "      <td>0</td>\n",
       "      <td>1</td>\n",
       "    </tr>\n",
       "    <tr>\n",
       "      <th>4</th>\n",
       "      <td>35957452</td>\n",
       "      <td>/book/show/35957452-apex-magazine-issue-99</td>\n",
       "      <td>Apex Magazine Issue 99</td>\n",
       "      <td>Jason Sizemore</td>\n",
       "      <td>Nebula Award for Best Short Story for \"Welcome...</td>\n",
       "      <td>0</td>\n",
       "      <td>1</td>\n",
       "    </tr>\n",
       "    <tr>\n",
       "      <th>...</th>\n",
       "      <td>...</td>\n",
       "      <td>...</td>\n",
       "      <td>...</td>\n",
       "      <td>...</td>\n",
       "      <td>...</td>\n",
       "      <td>...</td>\n",
       "      <td>...</td>\n",
       "    </tr>\n",
       "    <tr>\n",
       "      <th>3585</th>\n",
       "      <td>29519390</td>\n",
       "      <td>/book/show/29519390-brightside-crossing</td>\n",
       "      <td>Brightside Crossing</td>\n",
       "      <td>Alan E. Nourse</td>\n",
       "      <td>Hugo Award Nominee for Best Novelette (1956)</td>\n",
       "      <td>1</td>\n",
       "      <td>1</td>\n",
       "    </tr>\n",
       "    <tr>\n",
       "      <th>3586</th>\n",
       "      <td>2935921</td>\n",
       "      <td>/book/show/2935921-a-gun-for-dinosaur</td>\n",
       "      <td>A Gun for Dinosaur</td>\n",
       "      <td>L. Sprague de Camp</td>\n",
       "      <td>Hugo Award Nominee for Best Novelette (1956)</td>\n",
       "      <td>1</td>\n",
       "      <td>1</td>\n",
       "    </tr>\n",
       "    <tr>\n",
       "      <th>3587</th>\n",
       "      <td>91109</td>\n",
       "      <td>/book/show/91109.The_Long_Tomorrow</td>\n",
       "      <td>The Long Tomorrow</td>\n",
       "      <td>Leigh Brackett</td>\n",
       "      <td>Hugo Award Nominee for Best Novel (1956)</td>\n",
       "      <td>1</td>\n",
       "      <td>1</td>\n",
       "    </tr>\n",
       "    <tr>\n",
       "      <th>3588</th>\n",
       "      <td>509784</td>\n",
       "      <td>/book/show/509784.The_End_of_Eternity</td>\n",
       "      <td>The End of Eternity</td>\n",
       "      <td>Isaac Asimov</td>\n",
       "      <td>Hugo Award Nominee for Best Novel (1956)</td>\n",
       "      <td>1</td>\n",
       "      <td>1</td>\n",
       "    </tr>\n",
       "    <tr>\n",
       "      <th>3589</th>\n",
       "      <td>2192968</td>\n",
       "      <td>/book/show/2192968.Three_to_Conquer</td>\n",
       "      <td>Three to Conquer</td>\n",
       "      <td>Eric Frank Russell</td>\n",
       "      <td>Hugo Award Nominee for Best Novel (1956)</td>\n",
       "      <td>1</td>\n",
       "      <td>1</td>\n",
       "    </tr>\n",
       "  </tbody>\n",
       "</table>\n",
       "<p>3590 rows × 7 columns</p>\n",
       "</div>"
      ],
      "text/plain": [
       "        bookID                                           bookLink  \\\n",
       "0     43466735  /book/show/43466735-fireside-magazine-issue-52...   \n",
       "1     34659272  /book/show/34659272-the-only-harmless-great-thing   \n",
       "2     36686547  /book/show/36686547-the-tea-master-and-the-det...   \n",
       "3     33080122          /book/show/33080122-the-calculating-stars   \n",
       "4     35957452         /book/show/35957452-apex-magazine-issue-99   \n",
       "...        ...                                                ...   \n",
       "3585  29519390            /book/show/29519390-brightside-crossing   \n",
       "3586   2935921              /book/show/2935921-a-gun-for-dinosaur   \n",
       "3587     91109                 /book/show/91109.The_Long_Tomorrow   \n",
       "3588    509784              /book/show/509784.The_End_of_Eternity   \n",
       "3589   2192968                /book/show/2192968.Three_to_Conquer   \n",
       "\n",
       "                                       bookTitle            authorName  \\\n",
       "0      Fireside Magazine Issue 52, February 2018            Julia Rios   \n",
       "1                  The Only Harmless Great Thing       Brooke Bolander   \n",
       "2               The Tea Master and the Detective     Aliette de Bodard   \n",
       "3     The Calculating Stars (Lady Astronaut, #1)  Mary Robinette Kowal   \n",
       "4                         Apex Magazine Issue 99        Jason Sizemore   \n",
       "...                                          ...                   ...   \n",
       "3585                         Brightside Crossing        Alan E. Nourse   \n",
       "3586                          A Gun for Dinosaur    L. Sprague de Camp   \n",
       "3587                           The Long Tomorrow        Leigh Brackett   \n",
       "3588                         The End of Eternity          Isaac Asimov   \n",
       "3589                            Three to Conquer    Eric Frank Russell   \n",
       "\n",
       "                                                  award  Nominee  \\\n",
       "0     Nebula Award for Short Story for \"The Secret L...        0   \n",
       "1                Nebula Award for Best Novelette (2018)        0   \n",
       "2                       Nebula Award for Novella (2018)        0   \n",
       "3                    Nebula Award for Best Novel (2018)        0   \n",
       "4     Nebula Award for Best Short Story for \"Welcome...        0   \n",
       "...                                                 ...      ...   \n",
       "3585       Hugo Award Nominee for Best Novelette (1956)        1   \n",
       "3586       Hugo Award Nominee for Best Novelette (1956)        1   \n",
       "3587           Hugo Award Nominee for Best Novel (1956)        1   \n",
       "3588           Hugo Award Nominee for Best Novel (1956)        1   \n",
       "3589           Hugo Award Nominee for Best Novel (1956)        1   \n",
       "\n",
       "      Nominee_Winner  \n",
       "0                  1  \n",
       "1                  1  \n",
       "2                  1  \n",
       "3                  1  \n",
       "4                  1  \n",
       "...              ...  \n",
       "3585               1  \n",
       "3586               1  \n",
       "3587               1  \n",
       "3588               1  \n",
       "3589               1  \n",
       "\n",
       "[3590 rows x 7 columns]"
      ]
     },
     "execution_count": 6,
     "metadata": {
      "tags": []
     },
     "output_type": "execute_result"
    }
   ],
   "source": [
    "awards['Nominee_Winner'] = 1\n",
    "awards"
   ]
  },
  {
   "cell_type": "markdown",
   "metadata": {
    "colab_type": "text",
    "id": "adZwqefcrP4u"
   },
   "source": [
    "## 1.1.1 Reviews"
   ]
  },
  {
   "cell_type": "code",
   "execution_count": 6,
   "metadata": {
    "colab": {
     "base_uri": "https://localhost:8080/",
     "height": 248
    },
    "colab_type": "code",
    "id": "LKbQlHHXNZWL",
    "outputId": "830acb87-657b-4fbc-9026-523768b6f834",
    "scrolled": true
   },
   "outputs": [
    {
     "name": "stdout",
     "output_type": "stream",
     "text": [
      " == sample record (reviewsFP ==\n"
     ]
    },
    {
     "data": {
      "text/plain": [
       "{'user_id': 'cadf459d4238bc3f3a60ada4ab3fa133',\n",
       " 'book_id': '15783514',\n",
       " 'review_id': 'f13f6d9c048781716e41ce2b56b0e6df',\n",
       " 'rating': 5,\n",
       " 'review_text': 'Delightful.',\n",
       " 'date_added': 'Thu Jul 11 02:40:23 -0700 2013',\n",
       " 'date_updated': 'Sat Jul 13 15:22:29 -0700 2013',\n",
       " 'read_at': 'Sat Jul 13 15:22:29 -0700 2013',\n",
       " 'started_at': 'Sat Jul 13 00:00:00 -0700 2013',\n",
       " 'n_votes': 0,\n",
       " 'n_comments': 0}"
      ]
     },
     "metadata": {},
     "output_type": "display_data"
    }
   ],
   "source": [
    "print(' == sample record (reviewsFP ==')\n",
    "display(np.random.choice(reviewsFP))"
   ]
  },
  {
   "cell_type": "code",
   "execution_count": 7,
   "metadata": {
    "colab": {},
    "colab_type": "code",
    "id": "PBsM8279OPvq",
    "outputId": "5e6d238c-6454-4d9c-dd47-d0b839bb1f48"
   },
   "outputs": [],
   "source": [
    "reviewsFPpandas = pd.DataFrame(reviewsFP)"
   ]
  },
  {
   "cell_type": "markdown",
   "metadata": {
    "colab_type": "text",
    "id": "JygFuzbnriVK"
   },
   "source": [
    "## 1.1.2 BooksFP"
   ]
  },
  {
   "cell_type": "code",
   "execution_count": 8,
   "metadata": {
    "colab": {},
    "colab_type": "code",
    "id": "g2bZIqc1MlTR"
   },
   "outputs": [],
   "source": [
    "booksFPpandas = pd.DataFrame(booksFP)"
   ]
  },
  {
   "cell_type": "markdown",
   "metadata": {
    "colab_type": "text",
    "id": "RgsyLXMrr247"
   },
   "source": [
    "## 1.1.3 Merge"
   ]
  },
  {
   "cell_type": "code",
   "execution_count": 9,
   "metadata": {
    "colab": {},
    "colab_type": "code",
    "id": "xcmKl4qQe2BC",
    "outputId": "d05c84f3-b6af-49a3-adf3-d9a08ffc1b2b",
    "scrolled": true
   },
   "outputs": [],
   "source": [
    "booksFPreviewsFP = booksFPpandas.merge(reviewsFPpandas, left_on='book_id', right_on='book_id',how=\"inner\")"
   ]
  },
  {
   "cell_type": "code",
   "execution_count": 0,
   "metadata": {
    "colab": {},
    "colab_type": "code",
    "id": "YG_PDPDqGS8X"
   },
   "outputs": [],
   "source": [
    "#booksFPreviewsFP.to_csv('/Users/johnfields/Desktop/booksFPreviewsFP.csv')"
   ]
  },
  {
   "cell_type": "code",
   "execution_count": 10,
   "metadata": {
    "colab": {},
    "colab_type": "code",
    "id": "9k2FTi2zGS8Y"
   },
   "outputs": [],
   "source": [
    "booksFPawardsReviewsFPall = booksFPreviewsFP.merge(awards, left_on='book_id', right_on='bookID', how='left')"
   ]
  },
  {
   "cell_type": "code",
   "execution_count": 11,
   "metadata": {
    "colab": {},
    "colab_type": "code",
    "id": "cK5LZlVeGS8c"
   },
   "outputs": [],
   "source": [
    "booksFPawardsReviewsFPall = booksFPawardsReviewsFPall.drop(['series','country_code','language_code','popular_shelves','is_ebook','kindle_asin','similar_books','link','url','image_url','bookLink'],axis=1)"
   ]
  },
  {
   "cell_type": "code",
   "execution_count": 0,
   "metadata": {
    "colab": {},
    "colab_type": "code",
    "id": "wwdtTKcpGS8j"
   },
   "outputs": [],
   "source": [
    "booksFPawardsReviewsFPall.to_csv('/Users/johnfields/Desktop/booksFPawardsReviewsFPall.csv')"
   ]
  },
  {
   "cell_type": "code",
   "execution_count": null,
   "metadata": {},
   "outputs": [],
   "source": []
  }
 ],
 "metadata": {
  "colab": {
   "collapsed_sections": [],
   "machine_shape": "hm",
   "name": "IST718_Project_BookReviews_MergingDatasets.ipynb",
   "provenance": [],
   "toc_visible": true
  },
  "kernelspec": {
   "display_name": "Python 3",
   "language": "python",
   "name": "python3"
  },
  "language_info": {
   "codemirror_mode": {
    "name": "ipython",
    "version": 3
   },
   "file_extension": ".py",
   "mimetype": "text/x-python",
   "name": "python",
   "nbconvert_exporter": "python",
   "pygments_lexer": "ipython3",
   "version": "3.7.7"
  }
 },
 "nbformat": 4,
 "nbformat_minor": 1
}
