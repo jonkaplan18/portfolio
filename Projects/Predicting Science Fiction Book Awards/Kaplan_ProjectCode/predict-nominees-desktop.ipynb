{
 "cells": [
  {
   "cell_type": "markdown",
   "metadata": {},
   "source": [
    "# Generate dataframes for analysis\n",
    "\n",
    "1. All reviews for nominees to predict winner/loser\n",
    "2. 2013-2017 for predicting 2017 nominees\n",
    "\n",
    "## All reviews for nominees"
   ]
  },
  {
   "cell_type": "code",
   "execution_count": 15,
   "metadata": {
    "colab": {},
    "colab_type": "code",
    "id": "75dfY_QKwcmn"
   },
   "outputs": [],
   "source": [
    "import pandas as pd\n",
    "import numpy as np\n",
    "import logging\n",
    "import json\n",
    "\n",
    "pd.options.display.max_columns=None"
   ]
  },
  {
   "cell_type": "markdown",
   "metadata": {
    "colab": {},
    "colab_type": "code",
    "id": "UX8bD_m3-h_Q"
   },
   "source": [
    "#Load files function\n",
    "#Limit to XXXX observations for testing\n",
    "def load_data(file_name):\n",
    "    count = 0\n",
    "    data = []\n",
    "    with open(file_name) as fin:\n",
    "        for l in fin:\n",
    "            d = json.loads(l)\n",
    "            count += 1\n",
    "            data.append(d)            \n",
    "    return data\n",
    "reviewsFP = load_data('goodreads_reviews_fantasy_paranormal.json')\n",
    "reviews = pd.DataFrame(reviewsFP)\n",
    "print(len(reviews))"
   ]
  },
  {
   "cell_type": "code",
   "execution_count": 16,
   "metadata": {},
   "outputs": [],
   "source": [
    "cols = pd.read_csv('combo-awards.csv',nrows=1).columns\n",
    "awards = pd.read_csv('combo-awards.csv',usecols=cols[1:],dtype={'bookID':str})\n",
    "#print(awards.dtypes)\n",
    "awards['winner']=np.where(awards['Nominee']==0,1,0)\n",
    "awards.rename(columns={'Nominee':'loser'},inplace=True)\n",
    "#print(awards.head())"
   ]
  },
  {
   "cell_type": "markdown",
   "metadata": {},
   "source": [
    "awardReviews = pd.merge(awards,reviews,left_on='bookID',right_on='book_id',how='inner')\n",
    "print(awardReviews.head())"
   ]
  },
  {
   "cell_type": "markdown",
   "metadata": {},
   "source": [
    "awardReviews.to_csv('awardReviews.csv',index=False)"
   ]
  },
  {
   "cell_type": "code",
   "execution_count": 20,
   "metadata": {},
   "outputs": [],
   "source": [
    "awardReviews=pd.read_csv('awardReviews.csv')"
   ]
  },
  {
   "cell_type": "code",
   "execution_count": null,
   "metadata": {},
   "outputs": [],
   "source": [
    "awards.head()\n",
    "#awards[awards.winner==1].book_id.nunique()/awards.book_id.nunique()"
   ]
  },
  {
   "cell_type": "markdown",
   "metadata": {},
   "source": [
    "## 2013 - 2017 data for predicting winners\n",
    "\n"
   ]
  },
  {
   "cell_type": "code",
   "execution_count": null,
   "metadata": {},
   "outputs": [],
   "source": [
    "reviews['reviewDate'] = pd.to_datetime(reviews.date_added,utc=True)"
   ]
  },
  {
   "cell_type": "code",
   "execution_count": null,
   "metadata": {},
   "outputs": [],
   "source": [
    "from datetime import datetime\n",
    "#reviews['reviewDate']=reviews['reviewDate'].tz_convert(None)\n",
    "reviews[reviews['reviewDate'].dt.year>=2013].to_csv('reviews_2013-on.csv')"
   ]
  },
  {
   "cell_type": "markdown",
   "metadata": {},
   "source": [
    "## Sample and split"
   ]
  },
  {
   "cell_type": "code",
   "execution_count": 21,
   "metadata": {},
   "outputs": [],
   "source": [
    "#load\n",
    "reviews = pd.read_pickle('reviews_2013-on.pkl')"
   ]
  },
  {
   "cell_type": "markdown",
   "metadata": {},
   "source": [
    "How many reviews and award books are in 2016?"
   ]
  },
  {
   "cell_type": "code",
   "execution_count": 4,
   "metadata": {},
   "outputs": [
    {
     "data": {
      "text/plain": [
       "user_id         513276\n",
       "book_id         513276\n",
       "review_id       513276\n",
       "rating          513276\n",
       "review_text     513276\n",
       "date_added      513276\n",
       "date_updated    513276\n",
       "read_at         513276\n",
       "started_at      513276\n",
       "n_votes         513276\n",
       "n_comments      513276\n",
       "reviewDate      513276\n",
       "dtype: int64"
      ]
     },
     "execution_count": 4,
     "metadata": {},
     "output_type": "execute_result"
    }
   ],
   "source": [
    "reviews[reviews['reviewDate'].dt.year==2016].count()"
   ]
  },
  {
   "cell_type": "markdown",
   "metadata": {},
   "source": [
    "The problem with the thing is that it doesn't work. The theory is that it's because of how imbalanced it is with the number of reviews there. We can look at winners/losers and split it up."
   ]
  },
  {
   "cell_type": "code",
   "execution_count": 22,
   "metadata": {},
   "outputs": [
    {
     "name": "stdout",
     "output_type": "stream",
     "text": [
      "    book_id                                               text  n_votes  \\\n",
      "0  18245960  This is a special book. It started slow for ab...       28   \n",
      "1   5577844  A beautiful story. Neil Gaiman is truly a uniq...        5   \n",
      "2  17315048  Mark Watney is a steely-eyed missile man. A ma...       25   \n",
      "3  15706923  Ehhhhhh. \\n Really nothing to rave about. It w...        0   \n",
      "4   7840190  Enjoyable read! I liked that Connie is not a t...        0   \n",
      "\n",
      "                 reviewDate  labels  \n",
      "0 2017-07-30 14:44:10+00:00       0  \n",
      "1 2014-09-24 16:29:29+00:00       0  \n",
      "2 2014-04-05 16:30:53+00:00       0  \n",
      "3 2013-11-09 04:14:53+00:00       0  \n",
      "4 2013-11-09 03:57:47+00:00       0  \n"
     ]
    }
   ],
   "source": [
    "reviewAwards = pd.merge(reviews,awards,right_on='bookID',left_on='book_id',how='left')\n",
    "reviewAwards['awardNominee'] = reviewAwards['award'].notna().astype(int)\n",
    "reviewAwardsClass = reviewAwards[['book_id','review_text','n_votes','reviewDate','awardNominee']].rename(columns={'review_text':'text','awardNominee':'labels'})\n",
    "reviewAwardsClass = reviewAwardsClass[reviewAwardsClass['text'].notna()]\n",
    "print(reviewAwardsClass.head())\n",
    "#reviews[['book_id',''.nunique()"
   ]
  },
  {
   "cell_type": "code",
   "execution_count": 23,
   "metadata": {},
   "outputs": [
    {
     "data": {
      "text/plain": [
       "book_id          913\n",
       "text          137944\n",
       "n_votes          229\n",
       "reviewDate    140895\n",
       "labels             1\n",
       "dtype: int64"
      ]
     },
     "execution_count": 23,
     "metadata": {},
     "output_type": "execute_result"
    }
   ],
   "source": [
    "reviewAwardsClass[reviewAwardsClass['labels']==1].nunique()"
   ]
  },
  {
   "cell_type": "markdown",
   "metadata": {},
   "source": [
    "## How to handle imbalanced data \n",
    "\n",
    "https://towardsdatascience.com/methods-for-dealing-with-imbalanced-data-5b761be45a18\n",
    "\n",
    "We will sample 3x as many books as we have award winners (913 award winners) and then try to oversample to more balanced data.\n"
   ]
  },
  {
   "cell_type": "code",
   "execution_count": null,
   "metadata": {},
   "outputs": [],
   "source": []
  },
  {
   "cell_type": "code",
   "execution_count": 6,
   "metadata": {},
   "outputs": [
    {
     "data": {
      "text/plain": [
       "1    1735214\n",
       "0    1735214\n",
       "Name: labels, dtype: int64"
      ]
     },
     "execution_count": 6,
     "metadata": {},
     "output_type": "execute_result"
    }
   ],
   "source": [
    "from sklearn.utils import resample\n",
    "from sklearn.model_selection import train_test_split\n",
    "\n",
    "y = reviewAwardsClass.labels\n",
    "X = reviewAwardsClass.drop('labels',axis=1)\n",
    "\n",
    "X_train, X_test, y_train, y_test = train_test_split(X, y, test_size=0.20, random_state=42)\n",
    "\n",
    "X = pd.concat([X_train, y_train], axis=1)\n",
    "\n",
    "# separate minority and majority classes\n",
    "Not_Nominee = X[X.labels==0]\n",
    "Yes_Nominee = X[X.labels==1]\n",
    "\n",
    "# upsample minority\n",
    "Nominee_resampled = resample(Yes_Nominee,\n",
    "                          replace=True, # sample with replacement\n",
    "                          n_samples=len(Not_Nominee), # match number in majority class\n",
    "                          random_state=42) # reproducible results\n",
    "\n",
    "# combine majority and upsampled minority\n",
    "upsampled = pd.concat([Not_Nominee, Nominee_resampled])\n",
    "\n",
    "# check new class counts\n",
    "upsampled.labels.value_counts()"
   ]
  },
  {
   "cell_type": "code",
   "execution_count": 7,
   "metadata": {},
   "outputs": [
    {
     "data": {
      "text/plain": [
       "1    250325\n",
       "0    249675\n",
       "Name: labels, dtype: int64"
      ]
     },
     "execution_count": 7,
     "metadata": {},
     "output_type": "execute_result"
    }
   ],
   "source": [
    "smallReviewsX = upsampled.sample(n=500000)\n",
    "smallReviewsX.labels.value_counts()"
   ]
  },
  {
   "cell_type": "code",
   "execution_count": 8,
   "metadata": {},
   "outputs": [
    {
     "data": {
      "text/plain": [
       "0    433755\n",
       "1     41132\n",
       "Name: labels, dtype: int64"
      ]
     },
     "execution_count": 8,
     "metadata": {},
     "output_type": "execute_result"
    }
   ],
   "source": [
    "smallReviewsY = pd.concat([X_test,y_test],axis=1)\n",
    "smallReviewsY.labels.value_counts()"
   ]
  },
  {
   "cell_type": "code",
   "execution_count": 28,
   "metadata": {},
   "outputs": [],
   "source": [
    "smallReviewsX.to_pickle('smallReviewsX.pkl')\n",
    "smallReviewsY.to_pickle('smallReviewsY.pkl')"
   ]
  },
  {
   "cell_type": "markdown",
   "metadata": {},
   "source": [
    "# Simpletransformers Electra \n",
    "\n",
    ". . . Because i can run this one\n",
    "\n"
   ]
  },
  {
   "cell_type": "code",
   "execution_count": null,
   "metadata": {},
   "outputs": [],
   "source": [
    "#!pip install -v --no-cache-dir --global-option=\"--cpp_ext\" --global-option=\"--cuda_ext\" ./apex"
   ]
  },
  {
   "cell_type": "code",
   "execution_count": 5,
   "metadata": {},
   "outputs": [],
   "source": [
    "from simpletransformers.classification import ClassificationModel"
   ]
  },
  {
   "cell_type": "code",
   "execution_count": 19,
   "metadata": {},
   "outputs": [],
   "source": [
    "train = smallReviewsX[['text','labels']]\n",
    "test = smallReviewsY[['text','labels']]\n",
    "\n",
    "train_small = train.sample(n=5000)\n",
    "eval_df = train.sample(n=1000)\n"
   ]
  },
  {
   "cell_type": "code",
   "execution_count": 56,
   "metadata": {},
   "outputs": [
    {
     "data": {
      "application/vnd.jupyter.widget-view+json": {
       "model_id": "17f49299577048b1a1a62f5f53e9225b",
       "version_major": 2,
       "version_minor": 0
      },
      "text/plain": [
       "HBox(children=(FloatProgress(value=0.0, max=5000.0), HTML(value='')))"
      ]
     },
     "metadata": {},
     "output_type": "display_data"
    },
    {
     "name": "stdout",
     "output_type": "stream",
     "text": [
      "\n",
      "Selected optimization level O1:  Insert automatic casts around Pytorch functions and Tensor methods.\n",
      "\n",
      "Defaults for this optimization level are:\n",
      "enabled                : True\n",
      "opt_level              : O1\n",
      "cast_model_type        : None\n",
      "patch_torch_functions  : True\n",
      "keep_batchnorm_fp32    : None\n",
      "master_weights         : None\n",
      "loss_scale             : dynamic\n",
      "Processing user overrides (additional kwargs that are not None)...\n",
      "After processing overrides, optimization options are:\n",
      "enabled                : True\n",
      "opt_level              : O1\n",
      "cast_model_type        : None\n",
      "patch_torch_functions  : True\n",
      "keep_batchnorm_fp32    : None\n",
      "master_weights         : None\n",
      "loss_scale             : dynamic\n"
     ]
    },
    {
     "data": {
      "application/vnd.jupyter.widget-view+json": {
       "model_id": "d2327876537b4a8fa64d77c7396e2736",
       "version_major": 2,
       "version_minor": 0
      },
      "text/plain": [
       "HBox(children=(FloatProgress(value=0.0, description='Epoch', max=5.0, style=ProgressStyle(description_width='i…"
      ]
     },
     "metadata": {},
     "output_type": "display_data"
    },
    {
     "data": {
      "application/vnd.jupyter.widget-view+json": {
       "model_id": "7e970513d08a4206bc0ebfc2e876b577",
       "version_major": 2,
       "version_minor": 0
      },
      "text/plain": [
       "HBox(children=(FloatProgress(value=0.0, description='Current iteration', max=1365.0, style=ProgressStyle(descr…"
      ]
     },
     "metadata": {},
     "output_type": "display_data"
    },
    {
     "name": "stdout",
     "output_type": "stream",
     "text": [
      "Running loss: 1.210252Gradient overflow.  Skipping step, loss scaler 0 reducing loss scale to 32768.0\n",
      "Running loss: 0.535848\n"
     ]
    },
    {
     "data": {
      "application/vnd.jupyter.widget-view+json": {
       "model_id": "2e7caaf787ce47fb82e317730f4bc769",
       "version_major": 2,
       "version_minor": 0
      },
      "text/plain": [
       "HBox(children=(FloatProgress(value=0.0, description='Current iteration', max=1365.0, style=ProgressStyle(descr…"
      ]
     },
     "metadata": {},
     "output_type": "display_data"
    },
    {
     "name": "stdout",
     "output_type": "stream",
     "text": [
      "Running loss: 0.311181\n"
     ]
    },
    {
     "data": {
      "application/vnd.jupyter.widget-view+json": {
       "model_id": "3797a53cee62465bad61b729a1dee69a",
       "version_major": 2,
       "version_minor": 0
      },
      "text/plain": [
       "HBox(children=(FloatProgress(value=0.0, description='Current iteration', max=1365.0, style=ProgressStyle(descr…"
      ]
     },
     "metadata": {},
     "output_type": "display_data"
    },
    {
     "name": "stdout",
     "output_type": "stream",
     "text": [
      "Running loss: 0.943281Gradient overflow.  Skipping step, loss scaler 0 reducing loss scale to 16384.0\n",
      "Running loss: 1.267457Gradient overflow.  Skipping step, loss scaler 0 reducing loss scale to 8192.0\n",
      "Running loss: 0.021169\n"
     ]
    },
    {
     "data": {
      "application/vnd.jupyter.widget-view+json": {
       "model_id": "721328abd902467fa08658b91ba49cd4",
       "version_major": 2,
       "version_minor": 0
      },
      "text/plain": [
       "HBox(children=(FloatProgress(value=0.0, description='Current iteration', max=1365.0, style=ProgressStyle(descr…"
      ]
     },
     "metadata": {},
     "output_type": "display_data"
    },
    {
     "name": "stdout",
     "output_type": "stream",
     "text": [
      "Running loss: 0.265533Gradient overflow.  Skipping step, loss scaler 0 reducing loss scale to 4096.0\n",
      "Running loss: 0.001938\n",
      "\n"
     ]
    }
   ],
   "source": [
    "# Optional model configuration\n",
    "model_args = {\n",
    "    \"num_train_epochs\": 5,\n",
    "    \"sliding_window\": True,\n",
    "    'use_early_stopping': True,\n",
    "    'early_stopping_patience': 3,\n",
    "    \"early_stopping_delta\": 0.01,\n",
    "    \"early_stopping_metric\": \"mcc\",\n",
    "    \"evaluate_during_training\":True,\n",
    "    \"evaluate_during_training_steps\": 1000,\n",
    "    \"save_model_every_epoch\": False,\n",
    "    'overwrite_output_dir': True,\n",
    "    'no_cache': True,\n",
    "    'output_dir':'transformers-outputs/nominees',\n",
    "    'best_model_dir':'transformers-outputs/nominees/best',\n",
    "    #'weight':[0.1]\n",
    "}\n",
    "\n",
    "# Create a ClassificationModel\n",
    "model = ClassificationModel(\n",
    "    \"electra\", \"google/electra-small-discriminator\", args=model_args\n",
    ")\n",
    "\n",
    "# Train the model\n",
    "model.train_model(train_small,eval_df=eval_df)"
   ]
  },
  {
   "cell_type": "code",
   "execution_count": 6,
   "metadata": {},
   "outputs": [],
   "source": [
    "model = ClassificationModel(\n",
    "    \"electra\", \"transformers-outputs\"#, args=model_args\n",
    ")"
   ]
  },
  {
   "cell_type": "code",
   "execution_count": 60,
   "metadata": {},
   "outputs": [
    {
     "data": {
      "application/vnd.jupyter.widget-view+json": {
       "model_id": "9aa3d358b6b042608f2825629d15970a",
       "version_major": 2,
       "version_minor": 0
      },
      "text/plain": [
       "HBox(children=(FloatProgress(value=0.0, max=50000.0), HTML(value='')))"
      ]
     },
     "metadata": {},
     "output_type": "display_data"
    },
    {
     "name": "stdout",
     "output_type": "stream",
     "text": [
      "\n"
     ]
    },
    {
     "data": {
      "application/vnd.jupyter.widget-view+json": {
       "model_id": "0e7e9af94780482588e384e2de7ae5fe",
       "version_major": 2,
       "version_minor": 0
      },
      "text/plain": [
       "HBox(children=(FloatProgress(value=0.0, max=14359.0), HTML(value='')))"
      ]
     },
     "metadata": {},
     "output_type": "display_data"
    },
    {
     "name": "stdout",
     "output_type": "stream",
     "text": [
      "\n",
      "{'mcc': 0.16651505158146765, 'tp': 2785, 'tn': 29057, 'fp': 16700, 'fn': 1458, 'acc': 0.63684, 'f1': 0.23474376264329064, 'eval_loss': 1.6596730807529547}\n"
     ]
    }
   ],
   "source": [
    "# Evaluate the model\n",
    "import sklearn\n",
    "\n",
    "result, model_outputs, wrong_predictions = model.eval_model(test.sample(n=50000),acc=sklearn.metrics.accuracy_score,f1=sklearn.metrics.f1_score)\n",
    "print(result)"
   ]
  },
  {
   "cell_type": "code",
   "execution_count": 62,
   "metadata": {},
   "outputs": [
    {
     "name": "stdout",
     "output_type": "stream",
     "text": [
      "{'mcc': 0.16651505158146765, 'tp': 2785, 'tn': 29057, 'fp': 16700, 'fn': 1458, 'acc': 0.63684, 'f1': 0.23474376264329064, 'eval_loss': 1.6596730807529547}\n",
      "0.63684\n",
      "precision 0.143\n",
      "recall 0.656\n"
     ]
    }
   ],
   "source": [
    "print(result)\n",
    "acc = (result['tp']+result['tn'])/(result['tp']+result['fp']+result['tn']+result['fn'])\n",
    "print(acc)\n",
    "print('precision {0:.3f}'.format(result['tp']/(result['tp']+result['fp'])))\n",
    "print('recall {0:.3f}'.format(result['tp']/(result['tp']+result['fn'])))"
   ]
  },
  {
   "cell_type": "markdown",
   "metadata": {},
   "source": [
    "# Predict 2017 nominees"
   ]
  },
  {
   "cell_type": "code",
   "execution_count": 24,
   "metadata": {},
   "outputs": [],
   "source": [
    "r17 = reviewAwardsClass[reviewAwardsClass['reviewDate'].dt.year==2017]"
   ]
  },
  {
   "cell_type": "code",
   "execution_count": 8,
   "metadata": {},
   "outputs": [
    {
     "name": "stdout",
     "output_type": "stream",
     "text": [
      "333794 reviews in 2017\n",
      "74137 unique books, 661 of which were actually nominees.\n"
     ]
    }
   ],
   "source": [
    "print('{} reviews in 2017'.format(len(r17)))\n",
    "print('{} unique books, {} of which were actually nominees.'.format(r17.book_id.nunique(),r17[r17.labels==1].book_id.nunique()))"
   ]
  },
  {
   "cell_type": "code",
   "execution_count": 25,
   "metadata": {},
   "outputs": [
    {
     "name": "stdout",
     "output_type": "stream",
     "text": [
      "only 11930 have 5 or more reviews\n"
     ]
    }
   ],
   "source": [
    "r17count = r17.groupby('book_id').count()[['text']]>4\n",
    "\n",
    "review_5 = r17count[r17count.text].reset_index().book_id\n",
    "\n",
    "r17_5count = r17[r17.book_id.isin(review_5)]\n",
    "print('only {} have 5 or more reviews'.format(r17_5count.book_id.nunique()))"
   ]
  },
  {
   "cell_type": "code",
   "execution_count": 26,
   "metadata": {},
   "outputs": [],
   "source": [
    "r17_5count.to_csv('r17_5count.csv')"
   ]
  },
  {
   "cell_type": "code",
   "execution_count": 37,
   "metadata": {},
   "outputs": [
    {
     "data": {
      "application/vnd.jupyter.widget-view+json": {
       "model_id": "202f530c40554ce780139daf173e9f4c",
       "version_major": 2,
       "version_minor": 0
      },
      "text/plain": [
       "HBox(children=(FloatProgress(value=0.0, max=237569.0), HTML(value='')))"
      ]
     },
     "metadata": {},
     "output_type": "display_data"
    },
    {
     "name": "stdout",
     "output_type": "stream",
     "text": [
      "\n"
     ]
    },
    {
     "data": {
      "application/vnd.jupyter.widget-view+json": {
       "model_id": "6e04116ccdee434eb2095a2483959607",
       "version_major": 2,
       "version_minor": 0
      },
      "text/plain": [
       "HBox(children=(FloatProgress(value=0.0, max=64872.0), HTML(value='')))"
      ]
     },
     "metadata": {},
     "output_type": "display_data"
    },
    {
     "name": "stdout",
     "output_type": "stream",
     "text": [
      "\n"
     ]
    }
   ],
   "source": [
    "predictions,raw_outputs = model.predict(r17_5count.text)"
   ]
  },
  {
   "cell_type": "code",
   "execution_count": 111,
   "metadata": {},
   "outputs": [
    {
     "name": "stdout",
     "output_type": "stream",
     "text": [
      "[1] [array([[-2.9733627,  3.5435004],\n",
      "       [-3.0392284,  3.3715353],\n",
      "       [-3.0241203,  3.3826742],\n",
      "       [-2.9419775,  3.3655143],\n",
      "       [-2.7411244,  3.2528017]], dtype=float32)]\n"
     ]
    }
   ],
   "source": [
    "print(predictions[:1],raw_outputs[:1])"
   ]
  },
  {
   "cell_type": "code",
   "execution_count": 38,
   "metadata": {},
   "outputs": [
    {
     "name": "stderr",
     "output_type": "stream",
     "text": [
      "/home/luke/miniconda3/envs/mytorch/lib/python3.6/site-packages/ipykernel_launcher.py:1: SettingWithCopyWarning: \n",
      "A value is trying to be set on a copy of a slice from a DataFrame.\n",
      "Try using .loc[row_indexer,col_indexer] = value instead\n",
      "\n",
      "See the caveats in the documentation: https://pandas.pydata.org/pandas-docs/stable/user_guide/indexing.html#returning-a-view-versus-a-copy\n",
      "  \"\"\"Entry point for launching an IPython kernel.\n"
     ]
    }
   ],
   "source": [
    "r17_5count['pred']=predictions\n",
    "r17_5count.to_csv('r17-predictions-raw.csv')"
   ]
  },
  {
   "cell_type": "code",
   "execution_count": 39,
   "metadata": {},
   "outputs": [
    {
     "data": {
      "text/html": [
       "<div>\n",
       "<style scoped>\n",
       "    .dataframe tbody tr th:only-of-type {\n",
       "        vertical-align: middle;\n",
       "    }\n",
       "\n",
       "    .dataframe tbody tr th {\n",
       "        vertical-align: top;\n",
       "    }\n",
       "\n",
       "    .dataframe thead th {\n",
       "        text-align: right;\n",
       "    }\n",
       "</style>\n",
       "<table border=\"1\" class=\"dataframe\">\n",
       "  <thead>\n",
       "    <tr style=\"text-align: right;\">\n",
       "      <th></th>\n",
       "      <th></th>\n",
       "      <th>n_votes</th>\n",
       "      <th>pred</th>\n",
       "    </tr>\n",
       "    <tr>\n",
       "      <th>book_id</th>\n",
       "      <th>labels</th>\n",
       "      <th></th>\n",
       "      <th></th>\n",
       "    </tr>\n",
       "  </thead>\n",
       "  <tbody>\n",
       "    <tr>\n",
       "      <th>1</th>\n",
       "      <th>1</th>\n",
       "      <td>135</td>\n",
       "      <td>115</td>\n",
       "    </tr>\n",
       "    <tr>\n",
       "      <th>10016013</th>\n",
       "      <th>0</th>\n",
       "      <td>3</td>\n",
       "      <td>14</td>\n",
       "    </tr>\n",
       "    <tr>\n",
       "      <th>10025305</th>\n",
       "      <th>0</th>\n",
       "      <td>383</td>\n",
       "      <td>71</td>\n",
       "    </tr>\n",
       "    <tr>\n",
       "      <th>10031259</th>\n",
       "      <th>0</th>\n",
       "      <td>13</td>\n",
       "      <td>9</td>\n",
       "    </tr>\n",
       "    <tr>\n",
       "      <th>100369</th>\n",
       "      <th>1</th>\n",
       "      <td>8</td>\n",
       "      <td>6</td>\n",
       "    </tr>\n",
       "    <tr>\n",
       "      <th>...</th>\n",
       "      <th>...</th>\n",
       "      <td>...</td>\n",
       "      <td>...</td>\n",
       "    </tr>\n",
       "    <tr>\n",
       "      <th>995103</th>\n",
       "      <th>0</th>\n",
       "      <td>23</td>\n",
       "      <td>10</td>\n",
       "    </tr>\n",
       "    <tr>\n",
       "      <th>995123</th>\n",
       "      <th>0</th>\n",
       "      <td>48</td>\n",
       "      <td>3</td>\n",
       "    </tr>\n",
       "    <tr>\n",
       "      <th>9968073</th>\n",
       "      <th>0</th>\n",
       "      <td>21</td>\n",
       "      <td>7</td>\n",
       "    </tr>\n",
       "    <tr>\n",
       "      <th>9968921</th>\n",
       "      <th>0</th>\n",
       "      <td>46</td>\n",
       "      <td>4</td>\n",
       "    </tr>\n",
       "    <tr>\n",
       "      <th>9970042</th>\n",
       "      <th>0</th>\n",
       "      <td>1</td>\n",
       "      <td>2</td>\n",
       "    </tr>\n",
       "  </tbody>\n",
       "</table>\n",
       "<p>11930 rows × 2 columns</p>\n",
       "</div>"
      ],
      "text/plain": [
       "                 n_votes  pred\n",
       "book_id  labels               \n",
       "1        1           135   115\n",
       "10016013 0             3    14\n",
       "10025305 0           383    71\n",
       "10031259 0            13     9\n",
       "100369   1             8     6\n",
       "...                  ...   ...\n",
       "995103   0            23    10\n",
       "995123   0            48     3\n",
       "9968073  0            21     7\n",
       "9968921  0            46     4\n",
       "9970042  0             1     2\n",
       "\n",
       "[11930 rows x 2 columns]"
      ]
     },
     "execution_count": 39,
     "metadata": {},
     "output_type": "execute_result"
    }
   ],
   "source": [
    "r17_5count.groupby(['book_id','labels'])[['n_votes','pred']].sum()"
   ]
  },
  {
   "cell_type": "code",
   "execution_count": 58,
   "metadata": {},
   "outputs": [
    {
     "data": {
      "text/html": [
       "<div>\n",
       "<style scoped>\n",
       "    .dataframe tbody tr th:only-of-type {\n",
       "        vertical-align: middle;\n",
       "    }\n",
       "\n",
       "    .dataframe tbody tr th {\n",
       "        vertical-align: top;\n",
       "    }\n",
       "\n",
       "    .dataframe thead th {\n",
       "        text-align: right;\n",
       "    }\n",
       "</style>\n",
       "<table border=\"1\" class=\"dataframe\">\n",
       "  <thead>\n",
       "    <tr style=\"text-align: right;\">\n",
       "      <th></th>\n",
       "      <th></th>\n",
       "      <th>n_votes_sum</th>\n",
       "      <th>pred_count</th>\n",
       "      <th>pred_sum</th>\n",
       "    </tr>\n",
       "    <tr>\n",
       "      <th>book_id</th>\n",
       "      <th>labels</th>\n",
       "      <th></th>\n",
       "      <th></th>\n",
       "      <th></th>\n",
       "    </tr>\n",
       "  </thead>\n",
       "  <tbody>\n",
       "    <tr>\n",
       "      <th>1</th>\n",
       "      <th>1</th>\n",
       "      <td>135</td>\n",
       "      <td>260</td>\n",
       "      <td>115</td>\n",
       "    </tr>\n",
       "    <tr>\n",
       "      <th>10016013</th>\n",
       "      <th>0</th>\n",
       "      <td>3</td>\n",
       "      <td>20</td>\n",
       "      <td>14</td>\n",
       "    </tr>\n",
       "    <tr>\n",
       "      <th>10025305</th>\n",
       "      <th>0</th>\n",
       "      <td>383</td>\n",
       "      <td>217</td>\n",
       "      <td>71</td>\n",
       "    </tr>\n",
       "    <tr>\n",
       "      <th>10031259</th>\n",
       "      <th>0</th>\n",
       "      <td>13</td>\n",
       "      <td>19</td>\n",
       "      <td>9</td>\n",
       "    </tr>\n",
       "    <tr>\n",
       "      <th>100369</th>\n",
       "      <th>1</th>\n",
       "      <td>8</td>\n",
       "      <td>10</td>\n",
       "      <td>6</td>\n",
       "    </tr>\n",
       "    <tr>\n",
       "      <th>100464</th>\n",
       "      <th>0</th>\n",
       "      <td>0</td>\n",
       "      <td>8</td>\n",
       "      <td>5</td>\n",
       "    </tr>\n",
       "    <tr>\n",
       "      <th>100476</th>\n",
       "      <th>0</th>\n",
       "      <td>2</td>\n",
       "      <td>5</td>\n",
       "      <td>3</td>\n",
       "    </tr>\n",
       "    <tr>\n",
       "      <th>100485</th>\n",
       "      <th>0</th>\n",
       "      <td>2</td>\n",
       "      <td>5</td>\n",
       "      <td>5</td>\n",
       "    </tr>\n",
       "    <tr>\n",
       "      <th>10048874</th>\n",
       "      <th>0</th>\n",
       "      <td>5</td>\n",
       "      <td>7</td>\n",
       "      <td>3</td>\n",
       "    </tr>\n",
       "    <tr>\n",
       "      <th>10053149</th>\n",
       "      <th>0</th>\n",
       "      <td>5</td>\n",
       "      <td>8</td>\n",
       "      <td>4</td>\n",
       "    </tr>\n",
       "  </tbody>\n",
       "</table>\n",
       "</div>"
      ],
      "text/plain": [
       "                 n_votes_sum  pred_count  pred_sum\n",
       "book_id  labels                                   \n",
       "1        1               135         260       115\n",
       "10016013 0                 3          20        14\n",
       "10025305 0               383         217        71\n",
       "10031259 0                13          19         9\n",
       "100369   1                 8          10         6\n",
       "100464   0                 0           8         5\n",
       "100476   0                 2           5         3\n",
       "100485   0                 2           5         5\n",
       "10048874 0                 5           7         3\n",
       "10053149 0                 5           8         4"
      ]
     },
     "execution_count": 58,
     "metadata": {},
     "output_type": "execute_result"
    }
   ],
   "source": [
    "predPivot = pd.pivot_table(r17_5count,values=['n_votes','pred'],index=['book_id','labels'],\n",
    "                           aggfunc={'n_votes':np.sum,\n",
    "                                   'pred':[np.sum,'count']})\n",
    "predPivot.columns = predPivot.columns.to_series().str.join('_')\n",
    "predPivot.head(10)"
   ]
  },
  {
   "cell_type": "code",
   "execution_count": 59,
   "metadata": {},
   "outputs": [],
   "source": [
    "predPivot.reset_index().to_csv('2017-predictions.csv',index=False)"
   ]
  },
  {
   "cell_type": "code",
   "execution_count": 60,
   "metadata": {},
   "outputs": [
    {
     "data": {
      "text/html": [
       "<div>\n",
       "<style scoped>\n",
       "    .dataframe tbody tr th:only-of-type {\n",
       "        vertical-align: middle;\n",
       "    }\n",
       "\n",
       "    .dataframe tbody tr th {\n",
       "        vertical-align: top;\n",
       "    }\n",
       "\n",
       "    .dataframe thead th {\n",
       "        text-align: right;\n",
       "    }\n",
       "</style>\n",
       "<table border=\"1\" class=\"dataframe\">\n",
       "  <thead>\n",
       "    <tr style=\"text-align: right;\">\n",
       "      <th></th>\n",
       "      <th></th>\n",
       "      <th>n_votes_sum</th>\n",
       "      <th>pred_count</th>\n",
       "      <th>pred_sum</th>\n",
       "      <th>pred_percent</th>\n",
       "    </tr>\n",
       "    <tr>\n",
       "      <th>book_id</th>\n",
       "      <th>labels</th>\n",
       "      <th></th>\n",
       "      <th></th>\n",
       "      <th></th>\n",
       "      <th></th>\n",
       "    </tr>\n",
       "  </thead>\n",
       "  <tbody>\n",
       "    <tr>\n",
       "      <th>1</th>\n",
       "      <th>1</th>\n",
       "      <td>135</td>\n",
       "      <td>260</td>\n",
       "      <td>115</td>\n",
       "      <td>0.442308</td>\n",
       "    </tr>\n",
       "    <tr>\n",
       "      <th>10016013</th>\n",
       "      <th>0</th>\n",
       "      <td>3</td>\n",
       "      <td>20</td>\n",
       "      <td>14</td>\n",
       "      <td>0.700000</td>\n",
       "    </tr>\n",
       "    <tr>\n",
       "      <th>10025305</th>\n",
       "      <th>0</th>\n",
       "      <td>383</td>\n",
       "      <td>217</td>\n",
       "      <td>71</td>\n",
       "      <td>0.327189</td>\n",
       "    </tr>\n",
       "    <tr>\n",
       "      <th>10031259</th>\n",
       "      <th>0</th>\n",
       "      <td>13</td>\n",
       "      <td>19</td>\n",
       "      <td>9</td>\n",
       "      <td>0.473684</td>\n",
       "    </tr>\n",
       "    <tr>\n",
       "      <th>100369</th>\n",
       "      <th>1</th>\n",
       "      <td>8</td>\n",
       "      <td>10</td>\n",
       "      <td>6</td>\n",
       "      <td>0.600000</td>\n",
       "    </tr>\n",
       "  </tbody>\n",
       "</table>\n",
       "</div>"
      ],
      "text/plain": [
       "                 n_votes_sum  pred_count  pred_sum  pred_percent\n",
       "book_id  labels                                                 \n",
       "1        1               135         260       115      0.442308\n",
       "10016013 0                 3          20        14      0.700000\n",
       "10025305 0               383         217        71      0.327189\n",
       "10031259 0                13          19         9      0.473684\n",
       "100369   1                 8          10         6      0.600000"
      ]
     },
     "execution_count": 60,
     "metadata": {},
     "output_type": "execute_result"
    }
   ],
   "source": [
    "predPivot['pred_percent']=predPivot.pred_sum/predPivot.pred_count\n",
    "predPivot.head()"
   ]
  },
  {
   "cell_type": "code",
   "execution_count": 61,
   "metadata": {},
   "outputs": [],
   "source": [
    "predPivot.reset_index(inplace=True)"
   ]
  },
  {
   "cell_type": "code",
   "execution_count": 70,
   "metadata": {},
   "outputs": [
    {
     "data": {
      "image/png": "[encoded data removed]",
      "text/plain": [
       "<Figure size 432x288 with 1 Axes>"
      ]
     },
     "metadata": {
      "needs_background": "light"
     },
     "output_type": "display_data"
    }
   ],
   "source": [
    "import matplotlib.pyplot as plt \n",
    "\n",
    "nreviews_nominee = predPivot[predPivot.labels==1].pred_count.sort_values(ascending=False)\n",
    "nreviews_not = predPivot[predPivot.labels!=1].pred_count.sort_values(ascending=False)\n",
    "xrange = list(range(0,len(nreviews_nominee)))\n",
    "plt.plot(xrange,nreviews_nominee)\n",
    "plt.xlabel('books')\n",
    "plt.ylabel('number of reviews')\n",
    "plt.title('reviews for nominees')\n",
    "#plt.plot(list(range(0,len(nreviews_not))),nreviews_not)\n",
    "plt.show()"
   ]
  },
  {
   "cell_type": "markdown",
   "metadata": {},
   "source": [
    "## Take nlp predictions to predict the winners\n",
    "\n",
    "We now have the percent predicted for each book with at least 5 reviews. Let's build a model that takes the things and gives us an output."
   ]
  },
  {
   "cell_type": "code",
   "execution_count": 98,
   "metadata": {},
   "outputs": [],
   "source": [
    "import sys\n",
    "import time\n",
    "from datetime import timedelta\n",
    "\n",
    "from sklearn import preprocessing, metrics\n",
    "from sklearn.model_selection import train_test_split\n",
    "from sklearn.model_selection import cross_validate\n",
    "from sklearn.linear_model import LogisticRegression, Perceptron\n",
    "from sklearn.experimental import enable_hist_gradient_boosting\n",
    "from sklearn.ensemble import RandomForestClassifier,AdaBoostClassifier,HistGradientBoostingClassifier\n",
    "from sklearn.naive_bayes import GaussianNB\n",
    "from sklearn.neighbors import KNeighborsClassifier\n",
    "from sklearn.neural_network import MLPClassifier # TRY THIS ONE!\n",
    "from sklearn import svm\n",
    "\n",
    "import concurrent.futures\n",
    "\n",
    "# enable logging\n",
    "logging.basicConfig( level=logging.INFO,\n",
    "        format= \"%(asctime)s: %(message)s\",\n",
    "        datefmt=\"%Y-%m-%d %H:%M:%S\",\n",
    "        handlers=[\n",
    "            logging.StreamHandler()\n",
    "            ]\n",
    "        )"
   ]
  },
  {
   "cell_type": "code",
   "execution_count": 83,
   "metadata": {},
   "outputs": [
    {
     "name": "stdout",
     "output_type": "stream",
     "text": [
      "    book_id  labels  n_votes_sum  pred_count  pred_sum  pred_percent\n",
      "0         1       1          135         260       115      0.442308\n",
      "1  10016013       0            3          20        14      0.700000\n",
      "2  10025305       0          383         217        71      0.327189\n",
      "3  10031259       0           13          19         9      0.473684\n",
      "4    100369       1            8          10         6      0.600000\n"
     ]
    }
   ],
   "source": [
    "print(predPivot.head())\n",
    "X = predPivot[['n_votes_sum','pred_count','pred_sum']]\n",
    "y = predPivot.labels"
   ]
  },
  {
   "cell_type": "code",
   "execution_count": 84,
   "metadata": {},
   "outputs": [],
   "source": [
    "X_train, X_test, y_train, y_test = train_test_split(X, y, test_size=1.33, random_state=42)"
   ]
  },
  {
   "cell_type": "code",
   "execution_count": 85,
   "metadata": {},
   "outputs": [
    {
     "name": "stdout",
     "output_type": "stream",
     "text": [
      "Classification report for classifier RandomForestClassifier(max_depth=50, random_state=0):\n",
      "              precision    recall  f1-score   support\n",
      "\n",
      "           0       0.97      1.00      0.98      3807\n",
      "           1       0.40      0.08      0.13       130\n",
      "\n",
      "    accuracy                           0.97      3937\n",
      "   macro avg       0.68      0.54      0.56      3937\n",
      "weighted avg       0.95      0.97      0.95      3937\n",
      "\n",
      "\n",
      "Confusion matrix:\n",
      "[[3792   15]\n",
      " [ 120   10]]\n"
     ]
    },
    {
     "data": {
      "image/png": "[encoded data removed]",
      "text/plain": [
       "<Figure size 432x288 with 2 Axes>"
      ]
     },
     "metadata": {
      "needs_background": "light"
     },
     "output_type": "display_data"
    }
   ],
   "source": [
    "logging.info('Random Forest')\n",
    "classifier = RandomForestClassifier(max_depth=50, random_state=0)\n",
    "classifier.fit(X_train,y_train)\n",
    "predicted = classifier.predict(X_test)\n",
    "logging.info('complete')\n",
    "\n",
    "print(\"Classification report for classifier %s:\\n%s\\n\"\n",
    "      % (classifier, metrics.classification_report(y_test, predicted)))\n",
    "disp = metrics.plot_confusion_matrix(classifier, X_test, y_test)\n",
    "disp.figure_.suptitle(\"Confusion Matrix\")\n",
    "print(\"Confusion matrix:\\n%s\" % disp.confusion_matrix)\n"
   ]
  },
  {
   "cell_type": "code",
   "execution_count": 91,
   "metadata": {},
   "outputs": [],
   "source": [
    "def my_model_eval(model,params,cv=2):\n",
    "    # choose whether to run on small sample (for many runs and quick evaluation) or full set\n",
    "               \n",
    "    start_time = time.time()\n",
    "    \n",
    "    # run the sklearn model\n",
    "    scoring = ['f1_macro','accuracy']\n",
    "    logging.info('starting {} using {}'.format(model,params))\n",
    "    classifier = model(**params)\n",
    "    scores = cross_validate(classifier,X,y,cv=cv, scoring=scoring)\n",
    "    fit_time_avg = np.mean(scores['fit_time'])\n",
    "    score_time_avg = np.mean(scores['score_time'])\n",
    "    f1_macro_avg = np.mean(scores['test_f1_macro'])\n",
    "    accuracy_avg = np.mean(scores['test_accuracy'])\n",
    "    # stop the clock\n",
    "    end_time = time.time()\n",
    "    elapsed = timedelta(seconds=(end_time - start_time))\n",
    "    logging.info('stopping {} using {} after {}'.format(model,params,elapsed))\n",
    "    r={}\n",
    "    # helper function to get Sklearn object name from https://stackoverflow.com/a/54094521/6576560\n",
    "    r['model']=model.__name__\n",
    "    r['params']=json.dumps(params)\n",
    "    r['fit_time_avg']=fit_time_avg\n",
    "    r['score_time_avg']=score_time_avg\n",
    "    r['f1_avg']=f1_macro_avg\n",
    "    r['accuracy_avg']=accuracy_avg\n",
    "    r['cv_elapsed']='{} elapsed'.format(elapsed)\n",
    "    result = pd.DataFrame(r,index=[0])\n",
    "    return result"
   ]
  },
  {
   "cell_type": "code",
   "execution_count": 89,
   "metadata": {},
   "outputs": [
    {
     "data": {
      "text/plain": [
       "0.03269069572506287"
      ]
     },
     "execution_count": 89,
     "metadata": {},
     "output_type": "execute_result"
    }
   ],
   "source": [
    "# prior for nb\n",
    "predPivot[predPivot.labels==1].book_id.nunique()/predPivot.book_id.nunique()"
   ]
  },
  {
   "cell_type": "code",
   "execution_count": 101,
   "metadata": {},
   "outputs": [],
   "source": [
    "to_search = [\n",
    "    (RandomForestClassifier,{'max_depth':2})\n",
    "    ,(RandomForestClassifier,{'max_depth':10})\n",
    "    ,(RandomForestClassifier,{'max_depth':100})\n",
    "    ,(svm.SVC,{'kernel':'linear','C':1})\n",
    "    ,(svm.SVC,{'kernel':'rbf','C':1})\n",
    "    ,(svm.SVC,{'kernel':'rbf','C':10})\n",
    "    ,(svm.SVC,{'kernel':'poly','C':1})\n",
    "    ,(GaussianNB,{\"priors\":[0.03,0.97]})\n",
    "#    ,(AdaBoostClassifier,{\"n_estimators\":50})\n",
    "#    ,(AdaBoostClassifier,{\"n_estimators\":100})\n",
    "#    ,(HistGradientBoostingClassifier,{'max_iter':10,'max_depth':2}) # this breaks the concurrent futures module for no obvious reason\n",
    "]\n",
    "\n",
    "to_search = pd.DataFrame(to_search,columns=['model','params'])"
   ]
  },
  {
   "cell_type": "code",
   "execution_count": 92,
   "metadata": {},
   "outputs": [],
   "source": [
    "def runModel(model,params):\n",
    "    try:\n",
    "       return my_model_eval(model,params)\n",
    "    except Exception as e:\n",
    "        logging.error(traceback.format_exc())"
   ]
  },
  {
   "cell_type": "code",
   "execution_count": 103,
   "metadata": {},
   "outputs": [
    {
     "data": {
      "text/html": [
       "<div>\n",
       "<style scoped>\n",
       "    .dataframe tbody tr th:only-of-type {\n",
       "        vertical-align: middle;\n",
       "    }\n",
       "\n",
       "    .dataframe tbody tr th {\n",
       "        vertical-align: top;\n",
       "    }\n",
       "\n",
       "    .dataframe thead th {\n",
       "        text-align: right;\n",
       "    }\n",
       "</style>\n",
       "<table border=\"1\" class=\"dataframe\">\n",
       "  <thead>\n",
       "    <tr style=\"text-align: right;\">\n",
       "      <th></th>\n",
       "      <th>model</th>\n",
       "      <th>params</th>\n",
       "      <th>fit_time_avg</th>\n",
       "      <th>score_time_avg</th>\n",
       "      <th>f1_avg</th>\n",
       "      <th>accuracy_avg</th>\n",
       "      <th>cv_elapsed</th>\n",
       "    </tr>\n",
       "  </thead>\n",
       "  <tbody>\n",
       "    <tr>\n",
       "      <th>0</th>\n",
       "      <td>GaussianNB</td>\n",
       "      <td>{\"priors\": [0.03, 0.97]}</td>\n",
       "      <td>0.004271</td>\n",
       "      <td>0.003344</td>\n",
       "      <td>0.578774</td>\n",
       "      <td>0.911484</td>\n",
       "      <td>0:00:00.019029 elapsed</td>\n",
       "    </tr>\n",
       "  </tbody>\n",
       "</table>\n",
       "</div>"
      ],
      "text/plain": [
       "        model                    params  fit_time_avg  score_time_avg  \\\n",
       "0  GaussianNB  {\"priors\": [0.03, 0.97]}      0.004271        0.003344   \n",
       "\n",
       "     f1_avg  accuracy_avg              cv_elapsed  \n",
       "0  0.578774      0.911484  0:00:00.019029 elapsed  "
      ]
     },
     "execution_count": 103,
     "metadata": {},
     "output_type": "execute_result"
    }
   ],
   "source": [
    "runModel(GaussianNB,{\"priors\":[0.03,0.97]})"
   ]
  },
  {
   "cell_type": "code",
   "execution_count": 102,
   "metadata": {},
   "outputs": [
    {
     "data": {
      "text/html": [
       "<div>\n",
       "<style scoped>\n",
       "    .dataframe tbody tr th:only-of-type {\n",
       "        vertical-align: middle;\n",
       "    }\n",
       "\n",
       "    .dataframe tbody tr th {\n",
       "        vertical-align: top;\n",
       "    }\n",
       "\n",
       "    .dataframe thead th {\n",
       "        text-align: right;\n",
       "    }\n",
       "</style>\n",
       "<table border=\"1\" class=\"dataframe\">\n",
       "  <thead>\n",
       "    <tr style=\"text-align: right;\">\n",
       "      <th></th>\n",
       "      <th>model</th>\n",
       "      <th>params</th>\n",
       "      <th>fit_time_avg</th>\n",
       "      <th>score_time_avg</th>\n",
       "      <th>f1_avg</th>\n",
       "      <th>accuracy_avg</th>\n",
       "      <th>cv_elapsed</th>\n",
       "    </tr>\n",
       "  </thead>\n",
       "  <tbody>\n",
       "    <tr>\n",
       "      <th>0</th>\n",
       "      <td>RandomForestClassifier</td>\n",
       "      <td>{\"max_depth\": 2}</td>\n",
       "      <td>0.175958</td>\n",
       "      <td>0.025919</td>\n",
       "      <td>0.491692</td>\n",
       "      <td>0.967309</td>\n",
       "      <td>0:00:00.410419 elapsed</td>\n",
       "    </tr>\n",
       "    <tr>\n",
       "      <th>1</th>\n",
       "      <td>RandomForestClassifier</td>\n",
       "      <td>{\"max_depth\": 10}</td>\n",
       "      <td>0.263998</td>\n",
       "      <td>0.047518</td>\n",
       "      <td>0.539130</td>\n",
       "      <td>0.966471</td>\n",
       "      <td>0:00:00.633970 elapsed</td>\n",
       "    </tr>\n",
       "    <tr>\n",
       "      <th>2</th>\n",
       "      <td>RandomForestClassifier</td>\n",
       "      <td>{\"max_depth\": 100}</td>\n",
       "      <td>0.281441</td>\n",
       "      <td>0.051397</td>\n",
       "      <td>0.547964</td>\n",
       "      <td>0.961861</td>\n",
       "      <td>0:00:00.677039 elapsed</td>\n",
       "    </tr>\n",
       "    <tr>\n",
       "      <th>3</th>\n",
       "      <td>SVC</td>\n",
       "      <td>{\"kernel\": \"linear\", \"C\": 1}</td>\n",
       "      <td>165.117654</td>\n",
       "      <td>0.013786</td>\n",
       "      <td>0.496810</td>\n",
       "      <td>0.967477</td>\n",
       "      <td>0:05:30.274687 elapsed</td>\n",
       "    </tr>\n",
       "    <tr>\n",
       "      <th>4</th>\n",
       "      <td>SVC</td>\n",
       "      <td>{\"kernel\": \"rbf\", \"C\": 1}</td>\n",
       "      <td>0.109521</td>\n",
       "      <td>0.055421</td>\n",
       "      <td>0.496801</td>\n",
       "      <td>0.967393</td>\n",
       "      <td>0:00:00.339447 elapsed</td>\n",
       "    </tr>\n",
       "    <tr>\n",
       "      <th>5</th>\n",
       "      <td>SVC</td>\n",
       "      <td>{\"kernel\": \"rbf\", \"C\": 10}</td>\n",
       "      <td>0.263779</td>\n",
       "      <td>0.067080</td>\n",
       "      <td>0.523079</td>\n",
       "      <td>0.966555</td>\n",
       "      <td>0:00:00.672040 elapsed</td>\n",
       "    </tr>\n",
       "    <tr>\n",
       "      <th>6</th>\n",
       "      <td>SVC</td>\n",
       "      <td>{\"kernel\": \"poly\", \"C\": 1}</td>\n",
       "      <td>11.360120</td>\n",
       "      <td>0.017424</td>\n",
       "      <td>0.518310</td>\n",
       "      <td>0.967896</td>\n",
       "      <td>0:00:22.766108 elapsed</td>\n",
       "    </tr>\n",
       "    <tr>\n",
       "      <th>7</th>\n",
       "      <td>GaussianNB</td>\n",
       "      <td>{\"priors\": [0.03, 0.97]}</td>\n",
       "      <td>0.005442</td>\n",
       "      <td>0.005059</td>\n",
       "      <td>0.578774</td>\n",
       "      <td>0.911484</td>\n",
       "      <td>0:00:00.027622 elapsed</td>\n",
       "    </tr>\n",
       "  </tbody>\n",
       "</table>\n",
       "</div>"
      ],
      "text/plain": [
       "                    model                        params  fit_time_avg  \\\n",
       "0  RandomForestClassifier              {\"max_depth\": 2}      0.175958   \n",
       "1  RandomForestClassifier             {\"max_depth\": 10}      0.263998   \n",
       "2  RandomForestClassifier            {\"max_depth\": 100}      0.281441   \n",
       "3                     SVC  {\"kernel\": \"linear\", \"C\": 1}    165.117654   \n",
       "4                     SVC     {\"kernel\": \"rbf\", \"C\": 1}      0.109521   \n",
       "5                     SVC    {\"kernel\": \"rbf\", \"C\": 10}      0.263779   \n",
       "6                     SVC    {\"kernel\": \"poly\", \"C\": 1}     11.360120   \n",
       "7              GaussianNB      {\"priors\": [0.03, 0.97]}      0.005442   \n",
       "\n",
       "   score_time_avg    f1_avg  accuracy_avg              cv_elapsed  \n",
       "0        0.025919  0.491692      0.967309  0:00:00.410419 elapsed  \n",
       "1        0.047518  0.539130      0.966471  0:00:00.633970 elapsed  \n",
       "2        0.051397  0.547964      0.961861  0:00:00.677039 elapsed  \n",
       "3        0.013786  0.496810      0.967477  0:05:30.274687 elapsed  \n",
       "4        0.055421  0.496801      0.967393  0:00:00.339447 elapsed  \n",
       "5        0.067080  0.523079      0.966555  0:00:00.672040 elapsed  \n",
       "6        0.017424  0.518310      0.967896  0:00:22.766108 elapsed  \n",
       "7        0.005059  0.578774      0.911484  0:00:00.027622 elapsed  "
      ]
     },
     "metadata": {},
     "output_type": "display_data"
    }
   ],
   "source": [
    "myforecast = []\n",
    "\n",
    "with concurrent.futures.ProcessPoolExecutor() as executor:\n",
    "  results = executor.map(runModel,to_search['model'],to_search['params'])\n",
    "  for result in results:\n",
    "    myforecast.append(result)\n",
    "   \n",
    "\n",
    "results = pd.concat(myforecast,ignore_index=True)\n",
    "display(results)"
   ]
  },
  {
   "cell_type": "code",
   "execution_count": 104,
   "metadata": {},
   "outputs": [
    {
     "name": "stdout",
     "output_type": "stream",
     "text": [
      "Classification report for classifier GaussianNB(priors=[0.03, 0.97]):\n",
      "              precision    recall  f1-score   support\n",
      "\n",
      "           0       0.98      0.78      0.87      3807\n",
      "           1       0.09      0.61      0.15       130\n",
      "\n",
      "    accuracy                           0.77      3937\n",
      "   macro avg       0.53      0.69      0.51      3937\n",
      "weighted avg       0.95      0.77      0.85      3937\n",
      "\n",
      "\n",
      "Confusion matrix:\n",
      "[[2964  843]\n",
      " [  51   79]]\n"
     ]
    },
    {
     "data": {
      "image/png": "[encoded data removed]",
      "text/plain": [
       "<Figure size 432x288 with 2 Axes>"
      ]
     },
     "metadata": {
      "needs_background": "light"
     },
     "output_type": "display_data"
    }
   ],
   "source": [
    "logging.info('Gaussian NB')\n",
    "classifier = GaussianNB(priors=[0.03,0.97])\n",
    "classifier.fit(X_train,y_train)\n",
    "predicted = classifier.predict(X_test)\n",
    "logging.info('complete')\n",
    "\n",
    "print(\"Classification report for classifier %s:\\n%s\\n\"\n",
    "      % (classifier, metrics.classification_report(y_test, predicted)))\n",
    "disp = metrics.plot_confusion_matrix(classifier, X_test, y_test)\n",
    "disp.figure_.suptitle(\"Confusion Matrix\")\n",
    "print(\"Confusion matrix:\\n%s\" % disp.confusion_matrix)\n"
   ]
  }
 ],
 "metadata": {
  "kernelspec": {
   "display_name": "Python 3",
   "language": "python",
   "name": "python3"
  },
  "language_info": {
   "codemirror_mode": {
    "name": "ipython",
    "version": 3
   },
   "file_extension": ".py",
   "mimetype": "text/x-python",
   "name": "python",
   "nbconvert_exporter": "python",
   "pygments_lexer": "ipython3",
   "version": "3.7.7"
  }
 },
 "nbformat": 4,
 "nbformat_minor": 4
}
